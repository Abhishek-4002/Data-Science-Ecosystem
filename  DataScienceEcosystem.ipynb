{
 "cells": [
  {
   "cell_type": "markdown",
   "id": "e07d5690",
   "metadata": {},
   "source": [
    "#  Data Science Tools and Ecosystem"
   ]
  },
  {
   "cell_type": "markdown",
   "id": "c290bf34",
   "metadata": {},
   "source": [
    "In this notebook, Data Science Tools and Ecosystem are summarized."
   ]
  },
  {
   "cell_type": "markdown",
   "id": "5b0ae423",
   "metadata": {},
   "source": [
    "Some of the popular languages that Data Scientists use are:\n",
    "\n",
    "1. Python\n",
    "2. R\n",
    "3. SQL\n",
    "4. Java\n",
    "5. Julia\n",
    "6. Scala\n",
    "7. C/C++\n",
    "8. JavaScript"
   ]
  },
  {
   "cell_type": "markdown",
   "id": "f01e0f5e",
   "metadata": {},
   "source": [
    "Some of the commonly used libraries used by Data Scientists include:\n",
    "\n",
    "1. TensorFlow\n",
    "2. NumPy\n",
    "3. SciPy\n",
    "4. Pandas\n",
    "5. Matplotlib\n",
    "6. Keras\n",
    "7. SciKit-Learn\n",
    "8. PyTorch\n",
    "9. Scrapy\n",
    "10. BeautifulSoup"
   ]
  },
  {
   "cell_type": "markdown",
   "id": "2d67c6c1",
   "metadata": {},
   "source": [
    "|Data Science Tools|\n",
    "|------------------|\n",
    "|SAS|\n",
    "| Apache Spark|\n",
    "|BigML|\n",
    "|MATLAB|"
   ]
  },
  {
   "cell_type": "markdown",
   "id": "5bc6fc76",
   "metadata": {},
   "source": [
    "### Below are a few examples of evaluating arithmetic expressions in Python\n",
    "+: Sum of a and b\n",
    "<br>a = 10\n",
    "<br>b = 20\n",
    "<br><br>a + b\n",
    "<br><br>30\n",
    "\n",
    "-: b subtracted from a.\n",
    "<br><br>a=10\n",
    "<br><br>b=5\n",
    "<br><br>a-b\n",
    "<br><br>5\n",
    "\n",
    "*: Product of a and b.\n",
    "<br><br>a=10\n",
    "<br><br>b=2\n",
    "<br><br>a*b\n",
    "<br><br>20\n",
    "\n",
    "/:Quotient when a is divided by b.The result always has type float.\n",
    "<br><br>a=15\n",
    "<br><br>b=3\n",
    "<br><br>a/b\n",
    "<br><br>5.0\n",
    "\n",
    "%: Remainder when a is divided by b.\n",
    "<br><br>a=30\n",
    "<br><br>b=6\n",
    "<br><br>a%b\n",
    "<br><br>0\n",
    "\n",
    "//: Quotient when a is divided by b, rounded to the next smallest whole number\n",
    "<br><br>a=27\n",
    "<br><br>b=3\n",
    "<br><br>a//b\n",
    "<br><br>9\n",
    "\n",
    "** : a raised to the power of b\n",
    "<br>a=2\n",
    "<br>b=3\n",
    "<br>a** b\n",
    "<br>8"
   ]
  },
  {
   "cell_type": "code",
   "execution_count": 10,
   "id": "1c76d51c",
   "metadata": {},
   "outputs": [
    {
     "data": {
      "text/plain": [
       "17"
      ]
     },
     "execution_count": 10,
     "metadata": {},
     "output_type": "execute_result"
    }
   ],
   "source": [
    "#This a simple arithmetic expression to mutiply then add integers.\n",
    "(3*4)+5"
   ]
  },
  {
   "cell_type": "code",
   "execution_count": 11,
   "id": "a7fd1835",
   "metadata": {},
   "outputs": [
    {
     "name": "stdout",
     "output_type": "stream",
     "text": [
      "200  minutes is equal to 3.3333333333333335 hours\n"
     ]
    }
   ],
   "source": [
    "#to covert minute to hours\n",
    "a=200\n",
    "# This will convert 200 minutes to hours by diving by 60\n",
    "b=a/60\n",
    "print(a,\" minutes is equal to\",b,\"hours\")"
   ]
  },
  {
   "cell_type": "markdown",
   "id": "34381a21",
   "metadata": {},
   "source": [
    "### Objectives:\n",
    "- List popular languages for Data Science\n",
    "- List data science libraries\n",
    "- Data Science tools"
   ]
  },
  {
   "cell_type": "markdown",
   "id": "b3b94b30",
   "metadata": {},
   "source": [
    "## Author\n",
    "Abhishek S Daivathinveettil"
   ]
  },
  {
   "cell_type": "code",
   "execution_count": null,
   "id": "9406c7eb",
   "metadata": {},
   "outputs": [],
   "source": []
  }
 ],
 "metadata": {
  "kernelspec": {
   "display_name": "Python 3",
   "language": "python",
   "name": "python3"
  },
  "language_info": {
   "codemirror_mode": {
    "name": "ipython",
    "version": 3
   },
   "file_extension": ".py",
   "mimetype": "text/x-python",
   "name": "python",
   "nbconvert_exporter": "python",
   "pygments_lexer": "ipython3",
   "version": "3.8.8"
  }
 },
 "nbformat": 4,
 "nbformat_minor": 5
}
